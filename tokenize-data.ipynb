{
 "cells": [
  {
   "cell_type": "markdown",
   "metadata": {},
   "source": [
    "# Tokenizing data for tmikolov/word2vec"
   ]
  },
  {
   "cell_type": "markdown",
   "metadata": {},
   "source": [
    "## Read the JSON data\n",
    "\n",
    "This needs to be done only once. You need to change the filename variable to the corpus you wish to train."
   ]
  },
  {
   "cell_type": "code",
   "execution_count": 17,
   "metadata": {},
   "outputs": [
    {
     "name": "stdout",
     "output_type": "stream",
     "text": [
      "{'body': 'The Officer says, \"I clocked you at 80 mph, sir.\" \\r\\n\\r\\nThe driver says, \"Gee, officer, I had it on cruise control at 60, perhaps your radar needs calibrating.\" \\r\\n\\r\\nNot looking up from her knitting, the wife says sweetly, \"Now don\\'t be silly dear, you know that this car doesn\\'t have cruise control.\" \\r\\n\\r\\nAs the officer writes out the ticket, the driver looks over at his wife and growls, \"Can\\'t you keep your mouth shut for once?\" \\r\\n\\r\\nThe wife smiles demurely and says, \"You should be thankful your radar detector went off when it did.\" \\r\\n\\r\\nAs the officer makes out the second ticket for the illegal radar detector unit, the man glowers at his wife and says through clenched teeth, \\r\\n\\r\\n\"Dammit woman, can\\'t you keep your mouth shut?\" \\r\\n\\r\\nThe officer frowns and says, \"And I notice that you\\'re not wearing your seat belt, sir. That\\'s an automatic $75 fine.\" \\r\\n\\r\\nThe driver says, \"Yeah, well, you see officer, I had it on, but took it off when you pulled me over so that I could get my license out of my back pocket.\" \\r\\n\\r\\nThe wife says, \"Now dear, you know very well that you didn\\'t have your seat belt on. You never wear your seat belt when you\\'re driving.\" \\r\\n\\r\\nAnd as the police officer is writing out the third ticket the driver turns to his wife and barks, \"WHY DON\\'T YOU SHUT THE HELL UP?\" \\r\\n\\r\\nThe officer looks over at the woman and asks, \"Does your husband always talk to you this way, Ma\\'am?\" \\r\\n\\r\\n\"Oh, heavens no, officer. Only when he\\'s been drinking\".', 'id': 4658, 'title': 'Clocked at 80mph', 'category': 'Other / Misc'}\n",
      "['The Officer says, \"I clocked you at 80 mph, sir.\" \\r\\n\\r\\nThe driver says, \"Gee, officer, I had it on cruise control at 60, perhaps your radar needs calibrating.\" \\r\\n\\r\\nNot looking up from her knitting, the wife says sweetly, \"Now don\\'t be silly dear, you know that this car doesn\\'t have cruise control.\" \\r\\n\\r\\nAs the officer writes out the ticket, the driver looks over at his wife and growls, \"Can\\'t you keep your mouth shut for once?\" \\r\\n\\r\\nThe wife smiles demurely and says, \"You should be thankful your radar detector went off when it did.\" \\r\\n\\r\\nAs the officer makes out the second ticket for the illegal radar detector unit, the man glowers at his wife and says through clenched teeth, \\r\\n\\r\\n\"Dammit woman, can\\'t you keep your mouth shut?\" \\r\\n\\r\\nThe officer frowns and says, \"And I notice that you\\'re not wearing your seat belt, sir. That\\'s an automatic $75 fine.\" \\r\\n\\r\\nThe driver says, \"Yeah, well, you see officer, I had it on, but took it off when you pulled me over so that I could get my license out of my back pocket.\" \\r\\n\\r\\nThe wife says, \"Now dear, you know very well that you didn\\'t have your seat belt on. You never wear your seat belt when you\\'re driving.\" \\r\\n\\r\\nAnd as the police officer is writing out the third ticket the driver turns to his wife and barks, \"WHY DON\\'T YOU SHUT THE HELL UP?\" \\r\\n\\r\\nThe officer looks over at the woman and asks, \"Does your husband always talk to you this way, Ma\\'am?\" \\r\\n\\r\\n\"Oh, heavens no, officer. Only when he\\'s been drinking\".', \"People from Mensa are said to understand any jokes without the need of any explaination. Meaning Mensans will be able to understand this joke here, though it is limpid that there aren't any to be contemplated.\"]\n"
     ]
    }
   ],
   "source": [
    "filename = \"data/wocka.json\"\n",
    "\n",
    "import json\n",
    "import random\n",
    "with open(filename) as f:\n",
    "    data=json.load(f)\n",
    "random.shuffle(data) \n",
    "print(data[0])\n",
    "\n",
    "# We need to gather the texts, into a list\n",
    "texts=[one_example[\"body\"] for one_example in data]\n",
    "#labels=[one_example[\"title\"] for one_example in data]\n",
    "print(texts[:2])\n",
    "#print(labels[:2])"
   ]
  },
  {
   "cell_type": "markdown",
   "metadata": {},
   "source": [
    "## Read the CSV data\n",
    "\n",
    "This needs to be done only once. You need to change the filename variable to the corpus you wish to train."
   ]
  },
  {
   "cell_type": "code",
   "execution_count": 19,
   "metadata": {},
   "outputs": [
    {
     "name": "stdout",
     "output_type": "stream",
     "text": [
      "Reading data/hatespeech.csv\n",
      "1000 comments\n",
      "2000 comments\n",
      "3000 comments\n",
      "4000 comments\n",
      "5000 comments\n",
      "6000 comments\n",
      "7000 comments\n",
      "8000 comments\n",
      "9000 comments\n",
      "10000 comments\n",
      "11000 comments\n",
      "12000 comments\n",
      "13000 comments\n",
      "14000 comments\n",
      "15000 comments\n",
      "16000 comments\n",
      "17000 comments\n",
      "18000 comments\n",
      "19000 comments\n",
      "20000 comments\n",
      "21000 comments\n",
      "22000 comments\n",
      "23000 comments\n",
      "24000 comments\n",
      "[\"!!! RT @mayasolovely: As a woman you shouldn't complain about cleaning up your house. &amp; as a man you should always take the trash out...\", '!!!!! RT @mleew17: boy dats cold...tyga dwn bad for cuffin dat hoe in the 1st place!!']\n",
      "['0', '0']\n"
     ]
    }
   ],
   "source": [
    "filename = \"data/hatespeech.csv\"\n",
    "\n",
    "import csv\n",
    "\n",
    "def read_csv(file_name):\n",
    "    print(\"Reading\", file_name)\n",
    "    texts = []\n",
    "    labels = []\n",
    "    csvfile = open(file_name, 'r')\n",
    "    for i, line in enumerate(csv.DictReader(csvfile)):\n",
    "        if i % 1000 == 999:\n",
    "            print(i+1, \"comments\")\n",
    "        texts.append(line['tweet'])\n",
    "        if 'hate_speech' in line:\n",
    "            labels.append(line['hate_speech'])\n",
    "    return (texts, labels)\n",
    "\n",
    "csvData = read_csv(filename)\n",
    "texts = csvData[0]\n",
    "labels = csvData[1]\n",
    "print(texts[0:2])\n",
    "print(labels[0:2])"
   ]
  },
  {
   "cell_type": "markdown",
   "metadata": {},
   "source": [
    "## Tokenize the data\n",
    "\n",
    "This also needs to be done only once. After this we will have a tokenized version of the data in a file called \"*filename*.tokenized\"."
   ]
  },
  {
   "cell_type": "code",
   "execution_count": 18,
   "metadata": {},
   "outputs": [
    {
     "name": "stdout",
     "output_type": "stream",
     "text": [
      "['The', 'Officer', 'says', 'clocked', 'you', 'at', '80', 'mph', 'sir', 'The', 'driver', 'says', 'Gee', 'officer', 'had', 'it', 'on', 'cruise', 'control', 'at', '60', 'perhaps', 'your', 'radar', 'needs', 'calibrating', 'Not', 'looking', 'up', 'from', 'her', 'knitting', 'the', 'wife', 'says', 'sweetly', 'Now', 'don', 'be', 'silly', 'dear', 'you', 'know', 'that', 'this', 'car', 'doesn', 'have', 'cruise', 'control', 'As', 'the', 'officer', 'writes', 'out', 'the', 'ticket', 'the', 'driver', 'looks', 'over', 'at', 'his', 'wife', 'and', 'growls', 'Can', 'you', 'keep', 'your', 'mouth', 'shut', 'for', 'once', 'The', 'wife', 'smiles', 'demurely', 'and', 'says', 'You', 'should', 'be', 'thankful', 'your', 'radar', 'detector', 'went', 'off', 'when', 'it', 'did', 'As', 'the', 'officer', 'makes', 'out', 'the', 'second', 'ticket', 'for', 'the', 'illegal', 'radar', 'detector', 'unit', 'the', 'man', 'glowers', 'at', 'his', 'wife', 'and', 'says', 'through', 'clenched', 'teeth', 'Dammit', 'woman', 'can', 'you', 'keep', 'your', 'mouth', 'shut', 'The', 'officer', 'frowns', 'and', 'says', 'And', 'notice', 'that', 'you', 're', 'not', 'wearing', 'your', 'seat', 'belt', 'sir', 'That', 'an', 'automatic', '75', 'fine', 'The', 'driver', 'says', 'Yeah', 'well', 'you', 'see', 'officer', 'had', 'it', 'on', 'but', 'took', 'it', 'off', 'when', 'you', 'pulled', 'me', 'over', 'so', 'that', 'could', 'get', 'my', 'license', 'out', 'of', 'my', 'back', 'pocket', 'The', 'wife', 'says', 'Now', 'dear', 'you', 'know', 'very', 'well', 'that', 'you', 'didn', 'have', 'your', 'seat', 'belt', 'on', 'You', 'never', 'wear', 'your', 'seat', 'belt', 'when', 'you', 're', 'driving', 'And', 'as', 'the', 'police', 'officer', 'is', 'writing', 'out', 'the', 'third', 'ticket', 'the', 'driver', 'turns', 'to', 'his', 'wife', 'and', 'barks', 'WHY', 'DON', 'YOU', 'SHUT', 'THE', 'HELL', 'UP', 'The', 'officer', 'looks', 'over', 'at', 'the', 'woman', 'and', 'asks', 'Does', 'your', 'husband', 'always', 'talk', 'to', 'you', 'this', 'way', 'Ma', 'am', 'Oh', 'heavens', 'no', 'officer', 'Only', 'when', 'he', 'been', 'drinking']\n"
     ]
    }
   ],
   "source": [
    "from sklearn.feature_extraction.text import CountVectorizer\n",
    "import numpy\n",
    "\n",
    "analyzer=CountVectorizer(lowercase=False).build_analyzer() # includes tokenizer and preprocessing\n",
    "print(analyzer(texts[0]))\n",
    "with open(filename + \".tokenized\", \"w\") as file:\n",
    "    for text in texts:\n",
    "        file.write(\" \".join(analyzer(text)))"
   ]
  },
  {
   "cell_type": "code",
   "execution_count": null,
   "metadata": {},
   "outputs": [],
   "source": []
  }
 ],
 "metadata": {
  "kernelspec": {
   "display_name": "Python 3",
   "language": "python",
   "name": "python3"
  },
  "language_info": {
   "codemirror_mode": {
    "name": "ipython",
    "version": 3
   },
   "file_extension": ".py",
   "mimetype": "text/x-python",
   "name": "python",
   "nbconvert_exporter": "python",
   "pygments_lexer": "ipython3",
   "version": "3.5.2"
  }
 },
 "nbformat": 4,
 "nbformat_minor": 2
}
